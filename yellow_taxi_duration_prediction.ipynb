{
 "cells": [
  {
   "cell_type": "code",
   "execution_count": 44,
   "id": "1f1bf539-f618-49ea-bfbe-db56f62ee6a3",
   "metadata": {},
   "outputs": [],
   "source": [
    "import pandas as pd\n",
    "from sklearn.preprocessing import StandardScaler\n",
    "from sklearn.model_selection import train_test_split \n",
    "from sklearn.ensemble import RandomForestRegressor\n",
    "from sklearn.linear_model import LinearRegression\n",
    "from sklearn.metrics import mean_squared_error\n",
    "from sklearn.feature_extraction import DictVectorizer\n",
    "from sklearn.model_selection import GridSearchCV\n",
    "import os, mlflow, requests\n",
    "from mlflow.tracking.client import MlflowClient\n",
    "from dotenv import load_dotenv"
   ]
  },
  {
   "cell_type": "markdown",
   "id": "dbd1cf40-bae5-4b00-a890-174fa3c29c38",
   "metadata": {},
   "source": [
    "## I) Load data"
   ]
  },
  {
   "cell_type": "code",
   "execution_count": 3,
   "id": "9574c773-1d68-4535-b03e-d301460a90be",
   "metadata": {},
   "outputs": [],
   "source": [
    "os.environ[\"GOOGLE_APPLICATION_CREDENTIALS\"] = './service-account-key.json'"
   ]
  },
  {
   "cell_type": "code",
   "execution_count": 12,
   "id": "2f0ff5bd-3b79-47a3-aa63-b3ca63562653",
   "metadata": {},
   "outputs": [],
   "source": [
    "def save_training_data_in_gcs(bucket_name):\n",
    "    ''' Loads data to train the model and stores it as a parquet file in a GCS bucket '''\n",
    "    download_url = f'https://d37ci6vzurychx.cloudfront.net/trip-data/yellow_tripdata_2021-01.parquet'\n",
    "    training_data_df = pd.read_parquet(download_url)\n",
    "    training_data_df.to_parquet(f'gs://{bucket_name}/training_data/yellow_tripdata_2021-01.parquet')"
   ]
  },
  {
   "cell_type": "code",
   "execution_count": 24,
   "id": "8bb8f81e-3d7e-4d18-a695-b4b0eb54c958",
   "metadata": {},
   "outputs": [],
   "source": [
    "bucket_name = 'deployment-project'\n",
    "save_training_data_in_gcs(bucket_name)"
   ]
  },
  {
   "cell_type": "code",
   "execution_count": 4,
   "id": "cd8bac9a-933f-4933-bbb2-8aae4363d762",
   "metadata": {},
   "outputs": [],
   "source": [
    "def load_training_data(bucket_name):\n",
    "    df = pd.read_parquet(f'gs://{bucket_name}/training_data/yellow_tripdata_2021-01.parquet')\n",
    "    return df"
   ]
  },
  {
   "cell_type": "code",
   "execution_count": 5,
   "id": "ccea9a81-5954-4201-8211-9b378467026c",
   "metadata": {},
   "outputs": [],
   "source": [
    "bucket_name = 'deployment-project'\n",
    "df = load_training_data(bucket_name)"
   ]
  },
  {
   "cell_type": "code",
   "execution_count": 6,
   "id": "f0bd00c0-9543-4457-a030-9b2f4e1fd262",
   "metadata": {},
   "outputs": [
    {
     "data": {
      "text/html": [
       "<div>\n",
       "<style scoped>\n",
       "    .dataframe tbody tr th:only-of-type {\n",
       "        vertical-align: middle;\n",
       "    }\n",
       "\n",
       "    .dataframe tbody tr th {\n",
       "        vertical-align: top;\n",
       "    }\n",
       "\n",
       "    .dataframe thead th {\n",
       "        text-align: right;\n",
       "    }\n",
       "</style>\n",
       "<table border=\"1\" class=\"dataframe\">\n",
       "  <thead>\n",
       "    <tr style=\"text-align: right;\">\n",
       "      <th></th>\n",
       "      <th>VendorID</th>\n",
       "      <th>tpep_pickup_datetime</th>\n",
       "      <th>tpep_dropoff_datetime</th>\n",
       "      <th>passenger_count</th>\n",
       "      <th>trip_distance</th>\n",
       "      <th>RatecodeID</th>\n",
       "      <th>store_and_fwd_flag</th>\n",
       "      <th>PULocationID</th>\n",
       "      <th>DOLocationID</th>\n",
       "      <th>payment_type</th>\n",
       "      <th>fare_amount</th>\n",
       "      <th>extra</th>\n",
       "      <th>mta_tax</th>\n",
       "      <th>tip_amount</th>\n",
       "      <th>tolls_amount</th>\n",
       "      <th>improvement_surcharge</th>\n",
       "      <th>total_amount</th>\n",
       "      <th>congestion_surcharge</th>\n",
       "      <th>airport_fee</th>\n",
       "    </tr>\n",
       "  </thead>\n",
       "  <tbody>\n",
       "    <tr>\n",
       "      <th>0</th>\n",
       "      <td>1</td>\n",
       "      <td>2021-01-01 00:30:10</td>\n",
       "      <td>2021-01-01 00:36:12</td>\n",
       "      <td>1.0</td>\n",
       "      <td>2.1</td>\n",
       "      <td>1.0</td>\n",
       "      <td>N</td>\n",
       "      <td>142</td>\n",
       "      <td>43</td>\n",
       "      <td>2</td>\n",
       "      <td>8.0</td>\n",
       "      <td>3.0</td>\n",
       "      <td>0.5</td>\n",
       "      <td>0.0</td>\n",
       "      <td>0.0</td>\n",
       "      <td>0.3</td>\n",
       "      <td>11.8</td>\n",
       "      <td>2.5</td>\n",
       "      <td>NaN</td>\n",
       "    </tr>\n",
       "    <tr>\n",
       "      <th>1</th>\n",
       "      <td>1</td>\n",
       "      <td>2021-01-01 00:51:20</td>\n",
       "      <td>2021-01-01 00:52:19</td>\n",
       "      <td>1.0</td>\n",
       "      <td>0.2</td>\n",
       "      <td>1.0</td>\n",
       "      <td>N</td>\n",
       "      <td>238</td>\n",
       "      <td>151</td>\n",
       "      <td>2</td>\n",
       "      <td>3.0</td>\n",
       "      <td>0.5</td>\n",
       "      <td>0.5</td>\n",
       "      <td>0.0</td>\n",
       "      <td>0.0</td>\n",
       "      <td>0.3</td>\n",
       "      <td>4.3</td>\n",
       "      <td>0.0</td>\n",
       "      <td>NaN</td>\n",
       "    </tr>\n",
       "  </tbody>\n",
       "</table>\n",
       "</div>"
      ],
      "text/plain": [
       "   VendorID tpep_pickup_datetime tpep_dropoff_datetime  passenger_count  \\\n",
       "0         1  2021-01-01 00:30:10   2021-01-01 00:36:12              1.0   \n",
       "1         1  2021-01-01 00:51:20   2021-01-01 00:52:19              1.0   \n",
       "\n",
       "   trip_distance  RatecodeID store_and_fwd_flag  PULocationID  DOLocationID  \\\n",
       "0            2.1         1.0                  N           142            43   \n",
       "1            0.2         1.0                  N           238           151   \n",
       "\n",
       "   payment_type  fare_amount  extra  mta_tax  tip_amount  tolls_amount  \\\n",
       "0             2          8.0    3.0      0.5         0.0           0.0   \n",
       "1             2          3.0    0.5      0.5         0.0           0.0   \n",
       "\n",
       "   improvement_surcharge  total_amount  congestion_surcharge  airport_fee  \n",
       "0                    0.3          11.8                   2.5          NaN  \n",
       "1                    0.3           4.3                   0.0          NaN  "
      ]
     },
     "execution_count": 6,
     "metadata": {},
     "output_type": "execute_result"
    }
   ],
   "source": [
    "df.head(2)"
   ]
  },
  {
   "cell_type": "code",
   "execution_count": 7,
   "id": "a4f1d71a-6ad0-44ef-9871-8eaa2e49a267",
   "metadata": {},
   "outputs": [],
   "source": [
    "df = df.iloc[:10000]"
   ]
  },
  {
   "cell_type": "code",
   "execution_count": 8,
   "id": "10ae9697-7963-4ffb-9ea1-4249091933e2",
   "metadata": {},
   "outputs": [
    {
     "data": {
      "text/plain": [
       "(10000, 19)"
      ]
     },
     "execution_count": 8,
     "metadata": {},
     "output_type": "execute_result"
    }
   ],
   "source": [
    "df.shape"
   ]
  },
  {
   "cell_type": "markdown",
   "id": "60eed667-9c2f-4646-9956-dbed97b110e8",
   "metadata": {},
   "source": [
    "## II) Prepare data for training"
   ]
  },
  {
   "cell_type": "code",
   "execution_count": 9,
   "id": "7366bb6d-995a-4fb8-86fd-5fa06b459372",
   "metadata": {},
   "outputs": [],
   "source": [
    "# Compute trip duration in minutes using lpep_dropoff_datetime and lpep_pickup_datetime\n",
    "def calculate_trip_duration_in_minutes(df):\n",
    "    df[\"trip_duration_minutes\"] = (df[\"tpep_dropoff_datetime\"] - df[\"tpep_pickup_datetime\"]).dt.total_seconds() / 60\n",
    "    df = df[(df[\"trip_duration_minutes\"] >= 1) & (df[\"trip_duration_minutes\"] <= 60)]\n",
    "    return df"
   ]
  },
  {
   "cell_type": "code",
   "execution_count": 10,
   "id": "15c30480-8669-4888-88e1-0078b2d54b00",
   "metadata": {},
   "outputs": [],
   "source": [
    "# Preprocess: Put location into one feature called trip_route\n",
    "def preprocess(df):\n",
    "    df = calculate_trip_duration_in_minutes(df)\n",
    "    categorical_features = [\"PULocationID\", \"DOLocationID\"]\n",
    "    df[categorical_features] = df[categorical_features].astype(str)\n",
    "    df['trip_route'] = df[\"PULocationID\"] + \"_\" + df[\"DOLocationID\"]\n",
    "    df = df[['trip_route', 'trip_distance', 'trip_duration_minutes']]\n",
    "    y = df['trip_duration_minutes']\n",
    "    X = df.drop(columns=['trip_duration_minutes'])\n",
    "    X_train, X_test, y_train, y_test = train_test_split(X, y, random_state=42, test_size=0.2)\n",
    "    return X_train, X_test, y_train, y_test"
   ]
  },
  {
   "cell_type": "code",
   "execution_count": 11,
   "id": "f0413166-54cb-49ca-9567-ba2f7fac3fef",
   "metadata": {},
   "outputs": [
    {
     "name": "stderr",
     "output_type": "stream",
     "text": [
      "/tmp/ipykernel_2637/582797180.py:5: SettingWithCopyWarning: \n",
      "A value is trying to be set on a copy of a slice from a DataFrame.\n",
      "Try using .loc[row_indexer,col_indexer] = value instead\n",
      "\n",
      "See the caveats in the documentation: https://pandas.pydata.org/pandas-docs/stable/user_guide/indexing.html#returning-a-view-versus-a-copy\n",
      "  df[categorical_features] = df[categorical_features].astype(str)\n",
      "/tmp/ipykernel_2637/582797180.py:6: SettingWithCopyWarning: \n",
      "A value is trying to be set on a copy of a slice from a DataFrame.\n",
      "Try using .loc[row_indexer,col_indexer] = value instead\n",
      "\n",
      "See the caveats in the documentation: https://pandas.pydata.org/pandas-docs/stable/user_guide/indexing.html#returning-a-view-versus-a-copy\n",
      "  df['trip_route'] = df[\"PULocationID\"] + \"_\" + df[\"DOLocationID\"]\n"
     ]
    }
   ],
   "source": [
    "X_train, X_test, y_train, y_test = preprocess(df)"
   ]
  },
  {
   "cell_type": "code",
   "execution_count": 33,
   "id": "58b6c32f-119f-4729-a1a6-49ce444a22a0",
   "metadata": {},
   "outputs": [],
   "source": [
    "dv = DictVectorizer()\n",
    "\n",
    "dv.fit(X_train.to_dict(orient=\"records\"))\n",
    "X_train = dv.transform(X_train.to_dict(orient=\"records\"))\n",
    "X_test = dv.transform(X_test.to_dict(orient=\"records\"))"
   ]
  },
  {
   "cell_type": "code",
   "execution_count": 12,
   "id": "c3bfb57b-5277-487e-8be6-4ff84666bd7c",
   "metadata": {},
   "outputs": [
    {
     "data": {
      "text/html": [
       "<div>\n",
       "<style scoped>\n",
       "    .dataframe tbody tr th:only-of-type {\n",
       "        vertical-align: middle;\n",
       "    }\n",
       "\n",
       "    .dataframe tbody tr th {\n",
       "        vertical-align: top;\n",
       "    }\n",
       "\n",
       "    .dataframe thead th {\n",
       "        text-align: right;\n",
       "    }\n",
       "</style>\n",
       "<table border=\"1\" class=\"dataframe\">\n",
       "  <thead>\n",
       "    <tr style=\"text-align: right;\">\n",
       "      <th></th>\n",
       "      <th>trip_route</th>\n",
       "      <th>trip_distance</th>\n",
       "    </tr>\n",
       "  </thead>\n",
       "  <tbody>\n",
       "    <tr>\n",
       "      <th>4320</th>\n",
       "      <td>263_161</td>\n",
       "      <td>2.51</td>\n",
       "    </tr>\n",
       "    <tr>\n",
       "      <th>5066</th>\n",
       "      <td>100_230</td>\n",
       "      <td>0.68</td>\n",
       "    </tr>\n",
       "  </tbody>\n",
       "</table>\n",
       "</div>"
      ],
      "text/plain": [
       "     trip_route  trip_distance\n",
       "4320    263_161           2.51\n",
       "5066    100_230           0.68"
      ]
     },
     "execution_count": 12,
     "metadata": {},
     "output_type": "execute_result"
    }
   ],
   "source": [
    "X_train.head(2)"
   ]
  },
  {
   "cell_type": "code",
   "execution_count": 15,
   "id": "bbd2b757-1c59-407b-bfda-2565efe13931",
   "metadata": {},
   "outputs": [
    {
     "data": {
      "text/plain": [
       "4320     7.666667\n",
       "5066     1.766667\n",
       "609      5.483333\n",
       "2287     6.700000\n",
       "9236    12.950000\n",
       "          ...    \n",
       "5890     4.250000\n",
       "5342     2.916667\n",
       "5543     6.916667\n",
       "879     28.050000\n",
       "7458    11.833333\n",
       "Name: trip_duration_minutes, Length: 7824, dtype: float64"
      ]
     },
     "execution_count": 15,
     "metadata": {},
     "output_type": "execute_result"
    }
   ],
   "source": [
    "y_train"
   ]
  },
  {
   "cell_type": "markdown",
   "id": "c1228cee-51f5-4d85-a1e5-01dadfece61d",
   "metadata": {},
   "source": [
    "##### I think I don't need a one-hot encoding of the input features for a random forest regressor"
   ]
  },
  {
   "cell_type": "markdown",
   "id": "8589589c-20c7-4998-ad3e-58a8604f8d1b",
   "metadata": {},
   "source": [
    "## III) Training"
   ]
  },
  {
   "cell_type": "code",
   "execution_count": 13,
   "id": "a3ebbd4b-bb7e-41e4-8a27-f5998b17899f",
   "metadata": {},
   "outputs": [
    {
     "data": {
      "text/plain": [
       "<Experiment: artifact_location='gs://mlflow-artifacts-karim/mle-api-ml-deployment/1', creation_time=1695901954870, experiment_id='1', last_update_time=1695901954870, lifecycle_stage='active', name='yellow-taxi-duration-random-forest-regression', tags={}>"
      ]
     },
     "execution_count": 13,
     "metadata": {},
     "output_type": "execute_result"
    }
   ],
   "source": [
    "# Set up the connection to MLflow\n",
    "MLFLOW_TRACKING_URI = 'http://34.107.124.157:5000/'\n",
    "mlflow.set_tracking_uri(MLFLOW_TRACKING_URI)\n",
    "mlflow.set_experiment('yellow-taxi-duration-random-forest-regression')"
   ]
  },
  {
   "cell_type": "code",
   "execution_count": 14,
   "id": "bdce2925-b3e9-4b0b-9010-dcaa2e103339",
   "metadata": {},
   "outputs": [],
   "source": [
    "# Set features and target variable for mlflow\n",
    "features = [\"PULocationID\", \"DOLocationID\", \"trip_distance\"]\n",
    "target = 'duration'"
   ]
  },
  {
   "cell_type": "code",
   "execution_count": 44,
   "id": "128d63ba-cc6a-4b4e-bda6-b9137f8227ce",
   "metadata": {},
   "outputs": [
    {
     "name": "stderr",
     "output_type": "stream",
     "text": [
      "/home/karim/pCloud/neuefische/code/venv/lib/python3.11/site-packages/_distutils_hack/__init__.py:18: UserWarning: Distutils was imported before Setuptools, but importing Setuptools also replaces the `distutils` module in `sys.modules`. This may lead to undesirable behaviors or errors. To avoid these issues, avoid using distutils directly, ensure that setuptools is installed in the traditional way (e.g. not an editable install), and/or make sure that setuptools is always imported before distutils.\n",
      "  warnings.warn(\n",
      "/home/karim/pCloud/neuefische/code/venv/lib/python3.11/site-packages/_distutils_hack/__init__.py:33: UserWarning: Setuptools is replacing distutils.\n",
      "  warnings.warn(\"Setuptools is replacing distutils.\")\n"
     ]
    }
   ],
   "source": [
    "with mlflow.start_run():\n",
    "    tags = {\n",
    "        'model': 'random forest regression',\n",
    "        'developer': 'karim',\n",
    "        'dataset': 'yellow-taxi',\n",
    "        'year': 2021,\n",
    "        'month': 1,\n",
    "        'features': features,\n",
    "        'target': target\n",
    "    }\n",
    "    mlflow.set_tags(tags)\n",
    "\n",
    "    model = RandomForestRegressor()\n",
    "    # model = LinearRegression()\n",
    "    model.fit(X_train, y_train)\n",
    "\n",
    "    y_pred = model.predict(X_test)\n",
    "    rmse = mean_squared_error(y_test, y_pred, squared=False)\n",
    "    mlflow.log_metric('rmse', rmse)\n",
    "    mlflow.sklearn.log_model(model, 'model')"
   ]
  },
  {
   "cell_type": "code",
   "execution_count": null,
   "id": "015669b0-e0b1-4257-b6ca-e729b02abb48",
   "metadata": {},
   "outputs": [],
   "source": []
  },
  {
   "cell_type": "markdown",
   "id": "bd64f113-6c66-4edc-a53b-c8a37d474198",
   "metadata": {},
   "source": [
    "## IV) Register model in MLFlow"
   ]
  },
  {
   "cell_type": "code",
   "execution_count": null,
   "id": "3c40a935-d8d3-4962-b97f-4b3a2cfa1416",
   "metadata": {},
   "outputs": [],
   "source": [
    "# random-forest-duration"
   ]
  },
  {
   "cell_type": "code",
   "execution_count": 45,
   "id": "2b0b0371-bf5d-4c2e-a427-2ba890d104bc",
   "metadata": {},
   "outputs": [],
   "source": [
    "MLFLOW_TRACKING_URI = 'http://34.107.124.157:5000/'\n",
    "RUN_ID = 'a7cb467a3b654b1795ef3e20a555d13d' # !!! STILL THE LINEAR REGRESSION!"
   ]
  },
  {
   "cell_type": "code",
   "execution_count": 46,
   "id": "2fc4b8ed-b5f2-4827-88b0-faeac8e5cfb3",
   "metadata": {},
   "outputs": [
    {
     "name": "stderr",
     "output_type": "stream",
     "text": [
      "Registered model 'random-forest-duration' already exists. Creating a new version of this model...\n",
      "2023/09/28 17:36:45 INFO mlflow.tracking._model_registry.client: Waiting up to 300 seconds for model version to finish creation. Model name: random-forest-duration, version 2\n",
      "Created version '2' of model 'random-forest-duration'.\n"
     ]
    },
    {
     "data": {
      "text/plain": [
       "<ModelVersion: aliases=[], creation_timestamp=1695915447840, current_stage='None', description='', last_updated_timestamp=1695915447840, name='random-forest-duration', run_id='a7cb467a3b654b1795ef3e20a555d13d', run_link='', source='gs://mlflow-artifacts-karim/mle-api-ml-deployment/1/a7cb467a3b654b1795ef3e20a555d13d/artifacts/model', status='READY', status_message='', tags={}, user_id='', version='2'>"
      ]
     },
     "execution_count": 46,
     "metadata": {},
     "output_type": "execute_result"
    }
   ],
   "source": [
    "# Register the model in MLFlow\n",
    "mlflow.set_tracking_uri(MLFLOW_TRACKING_URI)\n",
    "model_uri = f\"runs:/{RUN_ID}/model\"\n",
    "mlflow.register_model(model_uri=model_uri, name='random-forest-duration')"
   ]
  },
  {
   "cell_type": "code",
   "execution_count": 51,
   "id": "27fbf9df-857e-4a10-8288-e2a917cd2c9d",
   "metadata": {},
   "outputs": [
    {
     "name": "stdout",
     "output_type": "stream",
     "text": [
      "version: 2, stage: Production\n"
     ]
    }
   ],
   "source": [
    "# Investigate the model in MLFlow using the client\n",
    "client = MlflowClient(tracking_uri=MLFLOW_TRACKING_URI)\n",
    "model_name = 'random-forest-duration'\n",
    "latest_versions = client.get_latest_versions(name=model_name)\n",
    "for version in latest_versions:\n",
    "    print(f\"version: {version.version}, stage: {version.current_stage}\")"
   ]
  },
  {
   "cell_type": "code",
   "execution_count": 50,
   "id": "2d981419-28ed-4665-a492-38c48ea2dbe1",
   "metadata": {},
   "outputs": [
    {
     "data": {
      "text/plain": [
       "<ModelVersion: aliases=[], creation_timestamp=1695915447840, current_stage='Production', description='', last_updated_timestamp=1695915458779, name='random-forest-duration', run_id='a7cb467a3b654b1795ef3e20a555d13d', run_link='', source='gs://mlflow-artifacts-karim/mle-api-ml-deployment/1/a7cb467a3b654b1795ef3e20a555d13d/artifacts/model', status='READY', status_message='', tags={}, user_id='', version='2'>"
      ]
     },
     "execution_count": 50,
     "metadata": {},
     "output_type": "execute_result"
    }
   ],
   "source": [
    "# Push the model to production stage\n",
    "model_version = 2\n",
    "new_stage = 'Production'\n",
    "client.transition_model_version_stage(\n",
    "    name=model_name,\n",
    "    version=model_version,\n",
    "    stage=new_stage,\n",
    "    archive_existing_versions=False\n",
    ")"
   ]
  },
  {
   "cell_type": "markdown",
   "id": "79b157c4-3b9f-43e4-84a9-2b249716bf67",
   "metadata": {},
   "source": [
    "## V) Hyperparameter tuning"
   ]
  },
  {
   "cell_type": "code",
   "execution_count": null,
   "id": "ec3179e7-e8e2-45e0-8cba-e0fa62058b1a",
   "metadata": {},
   "outputs": [],
   "source": [
    "# instantiate model \n",
    "logreg = LogisticRegression()\n",
    "\n",
    "# Define the hyperparameters and their possible values for the grid search\n",
    "param_grid = {\n",
    "    'penalty': ['l1', 'l2'],\n",
    "    'C': [0.1, 1, 10],\n",
    "    'solver': ['liblinear', 'saga']\n",
    "}\n",
    "\n",
    "# Perform the grid search with 5-fold cross-validation\n",
    "grid_search = GridSearchCV(logreg, param_grid, cv=5)\n",
    "\n",
    "# Fit the grid search to the training data\n",
    "grid_search.fit(X_train, y_train)"
   ]
  },
  {
   "cell_type": "code",
   "execution_count": 69,
   "id": "14e1271f-352f-45a2-bd39-828b1ead2a6c",
   "metadata": {},
   "outputs": [
    {
     "name": "stderr",
     "output_type": "stream",
     "text": [
      "/home/karim/pCloud/neuefische/code/venv/lib/python3.11/site-packages/_distutils_hack/__init__.py:18: UserWarning: Distutils was imported before Setuptools, but importing Setuptools also replaces the `distutils` module in `sys.modules`. This may lead to undesirable behaviors or errors. To avoid these issues, avoid using distutils directly, ensure that setuptools is installed in the traditional way (e.g. not an editable install), and/or make sure that setuptools is always imported before distutils.\n",
      "  warnings.warn(\n",
      "/home/karim/pCloud/neuefische/code/venv/lib/python3.11/site-packages/_distutils_hack/__init__.py:33: UserWarning: Setuptools is replacing distutils.\n",
      "  warnings.warn(\"Setuptools is replacing distutils.\")\n"
     ]
    }
   ],
   "source": [
    "with mlflow.start_run():\n",
    "    tags = {\n",
    "        'model': 'random forest regression - GridSearchCV',\n",
    "        'developer': 'karim',\n",
    "        'dataset': 'yellow-taxi',\n",
    "        'year': 2021,\n",
    "        'month': 1,\n",
    "        'features': features,\n",
    "        'target': target\n",
    "    }\n",
    "    mlflow.set_tags(tags)\n",
    "\n",
    "    model = RandomForestRegressor()\n",
    "    param_grid = {\n",
    "        'n_estimators': [20, 50, 100],\n",
    "        'criterion': ['squared_error', 'absolute_error']\n",
    "    }\n",
    "    grid_search = GridSearchCV(model, param_grid, cv=5)\n",
    "    grid_search.fit(X_train, y_train)\n",
    "    best_model = grid_search.best_estimator_\n",
    "    \n",
    "    y_score = best_model.score(X_test, y_test)\n",
    "    y_pred = best_model.predict(X_test)\n",
    "\n",
    "    rmse = mean_squared_error(y_test, y_pred, squared=False)\n",
    "    mlflow.log_metric('rmse', rmse)\n",
    "    mlflow.sklearn.log_model(best_model, 'model')"
   ]
  },
  {
   "cell_type": "markdown",
   "id": "8652dee9-3b72-4b63-92a3-1a7556525749",
   "metadata": {},
   "source": [
    "## VI) Test Request to API"
   ]
  },
  {
   "cell_type": "code",
   "execution_count": 36,
   "id": "6ddb1965-2542-4e16-860b-aff0f4f04561",
   "metadata": {},
   "outputs": [
    {
     "data": {
      "text/html": [
       "<div>\n",
       "<style scoped>\n",
       "    .dataframe tbody tr th:only-of-type {\n",
       "        vertical-align: middle;\n",
       "    }\n",
       "\n",
       "    .dataframe tbody tr th {\n",
       "        vertical-align: top;\n",
       "    }\n",
       "\n",
       "    .dataframe thead th {\n",
       "        text-align: right;\n",
       "    }\n",
       "</style>\n",
       "<table border=\"1\" class=\"dataframe\">\n",
       "  <thead>\n",
       "    <tr style=\"text-align: right;\">\n",
       "      <th></th>\n",
       "      <th>trip_route</th>\n",
       "      <th>trip_distance</th>\n",
       "    </tr>\n",
       "  </thead>\n",
       "  <tbody>\n",
       "    <tr>\n",
       "      <th>1410</th>\n",
       "      <td>142_100</td>\n",
       "      <td>1.80</td>\n",
       "    </tr>\n",
       "    <tr>\n",
       "      <th>7875</th>\n",
       "      <td>263_263</td>\n",
       "      <td>0.00</td>\n",
       "    </tr>\n",
       "    <tr>\n",
       "      <th>4152</th>\n",
       "      <td>48_163</td>\n",
       "      <td>0.48</td>\n",
       "    </tr>\n",
       "    <tr>\n",
       "      <th>8107</th>\n",
       "      <td>163_107</td>\n",
       "      <td>2.29</td>\n",
       "    </tr>\n",
       "    <tr>\n",
       "      <th>98</th>\n",
       "      <td>264_264</td>\n",
       "      <td>7.11</td>\n",
       "    </tr>\n",
       "  </tbody>\n",
       "</table>\n",
       "</div>"
      ],
      "text/plain": [
       "     trip_route  trip_distance\n",
       "1410    142_100           1.80\n",
       "7875    263_263           0.00\n",
       "4152     48_163           0.48\n",
       "8107    163_107           2.29\n",
       "98      264_264           7.11"
      ]
     },
     "execution_count": 36,
     "metadata": {},
     "output_type": "execute_result"
    }
   ],
   "source": [
    "X_test.iloc[:5]"
   ]
  },
  {
   "cell_type": "code",
   "execution_count": 37,
   "id": "af8f28dd-4262-4365-8e4b-40d362b254c4",
   "metadata": {},
   "outputs": [
    {
     "data": {
      "text/plain": [
       "1410     7.200000\n",
       "7875     2.000000\n",
       "4152     1.666667\n",
       "8107     8.283333\n",
       "98      23.466667\n",
       "Name: trip_duration_minutes, dtype: float64"
      ]
     },
     "execution_count": 37,
     "metadata": {},
     "output_type": "execute_result"
    }
   ],
   "source": [
    "y_test[:5]"
   ]
  },
  {
   "cell_type": "code",
   "execution_count": 38,
   "id": "35e6ea75-3d4b-41f9-a699-371d74fe5258",
   "metadata": {},
   "outputs": [],
   "source": [
    "url = 'http://localhost:9696/predict'\n",
    "data = {\n",
    "    'ride_id': 'rideidTEST',\n",
    "    'PULocationID': 142,\n",
    "    'DOLocationID': 100,\n",
    "    'trip_distance': 1.8\n",
    "}\n",
    "response = requests.post(url, json=data)"
   ]
  },
  {
   "cell_type": "code",
   "execution_count": 39,
   "id": "db9a20b7-a6c0-4fd7-8849-8c1b660d88fd",
   "metadata": {},
   "outputs": [
    {
     "data": {
      "text/plain": [
       "{'ride_id': 'rideidTEST',\n",
       " 'PULocationID': 142,\n",
       " 'DOLocationID': 100,\n",
       " 'trip_distance': 1.8,\n",
       " 'predicted_duration': 5.79066666666667}"
      ]
     },
     "execution_count": 39,
     "metadata": {},
     "output_type": "execute_result"
    }
   ],
   "source": [
    "response.json()"
   ]
  },
  {
   "cell_type": "code",
   "execution_count": null,
   "id": "89839354-0856-4392-b5af-6b8af994ffe8",
   "metadata": {},
   "outputs": [],
   "source": []
  },
  {
   "cell_type": "code",
   "execution_count": null,
   "id": "88b838a9-be62-488a-8a10-4b189c9f2e5e",
   "metadata": {},
   "outputs": [],
   "source": []
  },
  {
   "cell_type": "code",
   "execution_count": null,
   "id": "05ed2823-d680-45ee-82ff-a11783658370",
   "metadata": {},
   "outputs": [],
   "source": []
  }
 ],
 "metadata": {
  "kernelspec": {
   "display_name": "Python 3 (ipykernel)",
   "language": "python",
   "name": "python3"
  },
  "language_info": {
   "codemirror_mode": {
    "name": "ipython",
    "version": 3
   },
   "file_extension": ".py",
   "mimetype": "text/x-python",
   "name": "python",
   "nbconvert_exporter": "python",
   "pygments_lexer": "ipython3",
   "version": "3.11.5"
  }
 },
 "nbformat": 4,
 "nbformat_minor": 5
}
